{
 "cells": [
  {
   "cell_type": "code",
   "execution_count": 1,
   "id": "05422a7e",
   "metadata": {},
   "outputs": [
    {
     "name": "stdout",
     "output_type": "stream",
     "text": [
      "Slack data processor imported successfully!\n",
      "Available functions:\n",
      "1. process_slack_data_interactive() - Interactive processing of data in sampledata/slack/\n",
      "2. process_custom_slack_path('path/to/slack/export') - Process custom path\n",
      "\n",
      "Run one of these functions to start processing your Slack data!\n"
     ]
    }
   ],
   "source": [
    "# ==============================================================================",
    "# Slack Data Processing - Convert Export to Training Dataset",
    "# ==============================================================================",
    "\n",
    "import sys",
    "import os",
    "from pathlib import Path",
    "\n",
    "# Add current directory to path to import our processor",
    "sys.path.append('.')",
    "\n",
    "# Import our custom Slack data processor",
    "try:",
    "    from slack_data_processor import SlackDataProcessor",
    